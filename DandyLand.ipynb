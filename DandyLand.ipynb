{
 "cells": [
  {
   "cell_type": "markdown",
   "id": "2b5e673e-797d-4d15-9152-bacd7f8b0ad5",
   "metadata": {},
   "source": [
    "# Dandy Land - OOP Gameplay Simulation\n",
    "Recently, my son and I dusted off one of our favorite board games to play.  We always play that the youngest player goes first, and it got me thinking: *what kind of advantage, if any, does going first give Player 1?*\n",
    "\n",
    "In this game, chance rules completely.  Players draw cards and their subsequent move is completely determined, a function only of the card drawn and the player's position on the board (and thus the board itself).  There is only one possible move, in other words, for each player in each turn.  Versions of the gameplay can elicit different outcomes (if, say, you say no two players can occupy the same space on the board at the same time), but with a \"fixed\" board at all times and the only \"variable\" being the state of the shuffled deck (which is shuffled once at the start of the game), the result is determined before the first card is drawn.\n",
    "\n",
    "To quantify the advantage a player has based on their play order, I thought it would be fun to build the game and run a number of simulations, keeping tracking of the winner.  This would give me a chance to take a deeper dive on Python's power as an object-oriented programming langauge, aside from doing very simple statistical analysis to answer my question.  What follows is first my setup of the game and simulations run for games in which 2, 3, and 4 players are active."
   ]
  },
  {
   "cell_type": "markdown",
   "id": "741b4e71-12c8-40c6-9e45-1bceae215f78",
   "metadata": {},
   "source": [
    "#### Imports\n",
    "I've imported a few packages to help create random shuffling of the deck for each game and to help me test how long simulations will take.  I'll use some of statsmodels functions as well for statistical analysis."
   ]
  },
  {
   "cell_type": "code",
   "execution_count": 4,
   "id": "15d00bf6-7ef0-42bc-87b4-9671a3bdb623",
   "metadata": {
    "tags": []
   },
   "outputs": [],
   "source": [
    "import random\n",
    "import time\n",
    "from IPython.display import clear_output\n",
    "import statsmodels.stats.proportion as sm"
   ]
  },
  {
   "cell_type": "markdown",
   "id": "4808ebef-a168-4e60-a837-bebe751481a7",
   "metadata": {},
   "source": [
    "#### Building the Board\n",
    "Building the board starts with creating the structure for the spaces themselves.  \n",
    "- Space have a `color`, which is what determines if a player lands on them when a card is drawn.\\*\n",
    "- They can also send a player to a new space, so they'll have a `moveto` attribute.\n",
    "- Spaces can also cause a player to skip a turn, so they'll hold a `skip` attribute as well.\n",
    "\n",
    "\\*In the case of spaces that are indicated by a character, which can be jumped to if a card with that character's symbol is drawn, the color will be the indicator of that particular space. "
   ]
  },
  {
   "cell_type": "code",
   "execution_count": 6,
   "id": "272d3b26-1c0f-4a4f-bb19-aa0a84f46273",
   "metadata": {
    "tags": []
   },
   "outputs": [],
   "source": [
    "class Space(object):\n",
    "    '''\n",
    "    A Space intance represents a single space on the Board\n",
    "    '''\n",
    "    def __init__(self,color,moveto,skip):\n",
    "        self.color = color\n",
    "        self.moveto = moveto\n",
    "        self.skip = skip"
   ]
  },
  {
   "cell_type": "markdown",
   "id": "3c111f94-9045-4ebc-ae3d-77bd7e13d645",
   "metadata": {},
   "source": [
    "The board itself will be an ordered collection of spaces.  The Space objects could also hold an attribute for their space \"number\", but this unecessary if the board \"builds\" the order itself. I chose to use a dictionary to house the spaces, keyed to its space number.  The first space is the 0 space and is where everyone starts.  The final space in the game can be accessed by drawing any color, so it also has a unique identifier of \"all\" for its color."
   ]
  },
  {
   "cell_type": "code",
   "execution_count": 8,
   "id": "5a737bc8-a0eb-43cb-a29b-44a73e1a8eaa",
   "metadata": {
    "tags": []
   },
   "outputs": [],
   "source": [
    "class Board(object):\n",
    "    '''\n",
    "    A Board instance containts Space instances\n",
    "    For our version of the game, the Board (and thus the order of the Space instnaces and\n",
    "    their attributes does not change.\n",
    "    '''\n",
    "    def __init__(self):\n",
    "        self.spaces = {0:Space(None,None,False),\n",
    "                       1:Space('red',None,False), # The first space (i.e., space number 1) on the board is red\n",
    "                       2:Space('purple',None,False),\n",
    "                       3:Space('yellow',None,False),\n",
    "                       4:Space('blue',36,False),\n",
    "                       5:Space('orange',None,False),\n",
    "                       6:Space('green',None,False),\n",
    "                       7:Space('red',None,False),\n",
    "                       8:Space('purple',None,False),\n",
    "                       9:Space('yellow',None,False),\n",
    "                       10:Space('blue',None,False),\n",
    "                       11:Space('orange',None,False),\n",
    "                       12:Space('green',None,False),\n",
    "                       13:Space('red',None,False),\n",
    "                       14:Space('purple',None,False),\n",
    "                       15:Space('yellow',None,False),\n",
    "                       16:Space('blue',None,False),\n",
    "                       17:Space('orange',None,False),\n",
    "                       18:Space('green',25,False),\n",
    "                       19:Space('red',None,False),\n",
    "                       20:Space('purple',None,False),\n",
    "                       21:Space('A',None,False), # This is a special space, accessed only if its card is drawn\n",
    "                       22:Space('yellow',None,False),\n",
    "                       23:Space('blue',None,False),\n",
    "                       24:Space('orange',None,False),\n",
    "                       25:Space('green',None,False),\n",
    "                       26:Space('red',None,False),\n",
    "                       27:Space('purple',None,True),\n",
    "                       28:Space('yellow',None,False),\n",
    "                       29:Space('blue',None,False),\n",
    "                       30:Space('orange',None,False),\n",
    "                       31:Space('green',None,False),\n",
    "                       32:Space('red',None,False),\n",
    "                       33:Space('B',None,False),\n",
    "                       34:Space('purple',None,False),\n",
    "                       35:Space('yellow',None,False),\n",
    "                       36:Space('blue',None,False),\n",
    "                       37:Space('orange',None,False),\n",
    "                       38:Space('green',None,False),\n",
    "                       39:Space('red',None,False),\n",
    "                       40:Space('purple',None,False),\n",
    "                       41:Space('yellow',None,False),\n",
    "                       42:Space('blue',None,False),\n",
    "                       43:Space('orange',None,False),\n",
    "                       44:Space('C',None,False),\n",
    "                       45:Space('red',None,False),\n",
    "                       46:Space('purple',None,False),\n",
    "                       47:Space('yellow',None,False),\n",
    "                       48:Space('blue',None,False),\n",
    "                       49:Space('orange',None,False),\n",
    "                       50:Space('green',None,False),\n",
    "                       51:Space('red',None,False),\n",
    "                       52:Space('D',None,False),\n",
    "                       53:Space('purple',None,False),\n",
    "                       54:Space('yellow',None,True),\n",
    "                       55:Space('blue',None,False),\n",
    "                       56:Space('orange',None,False),\n",
    "                       57:Space('green',None,False),\n",
    "                       58:Space('red',None,False),\n",
    "                       59:Space('purple',None,False),\n",
    "                       60:Space('yellow',None,False),\n",
    "                       61:Space('blue',None,False),\n",
    "                       62:Space('orange',None,False),\n",
    "                       63:Space('green',None,False),\n",
    "                       64:Space('red',None,False),\n",
    "                       65:Space('purple',None,False),\n",
    "                       66:Space('yellow',None,False),\n",
    "                       67:Space('E',None,False),\n",
    "                       68:Space('blue',None,False),\n",
    "                       69:Space('orange',None,False),\n",
    "                       70:Space('green',None,False),\n",
    "                       71:Space('red',None,False),\n",
    "                       72:Space('purple',None,False),\n",
    "                       73:Space('yellow',None,False),\n",
    "                       74:Space('blue',None,False),\n",
    "                       75:Space('orange',None,False),\n",
    "                       76:Space('green',None,False),\n",
    "                       77:Space('red',None,False),\n",
    "                       78:Space('purple',None,False),\n",
    "                       79:Space('yellow',None,False),\n",
    "                       80:Space('blue',None,False),\n",
    "                       81:Space('orange',None,False),\n",
    "                       82:Space('green',None,False),\n",
    "                       83:Space('all',None,False), # The final space on the board, accessed by any color card\n",
    "                      }\n",
    "\n",
    "    def get_colorlist(self):\n",
    "        '''\n",
    "        This function will return a list of the colors on the board.\n",
    "        It will be helpful in finding the next space on the board open \n",
    "        to a player sitting on a particular colored space.\n",
    "        param: Board object\n",
    "        returns: list of colors from the Board\n",
    "        '''\n",
    "        spaces = self.spaces.values()\n",
    "        spaces_colors = [space.color for space in spaces]\n",
    "        return spaces_colors"
   ]
  },
  {
   "cell_type": "markdown",
   "id": "02abb742-5ed5-4f67-8bf0-913a59f45281",
   "metadata": {},
   "source": [
    "#### Building the Deck\n",
    "Building the deck starts with creating the structure for the cards in the deck.  \n",
    "- Cards have a `color`, which can also be a character symbol.\n",
    "- The Cards can also indicate how many colors to traverse, either one or two, so there will be a `moves` attribute.\n",
    "- Cards can also send a player forward in the case of colors that are drawn or in any direction if a character symbol is drawn, so there is an attribute related to the diretion, `direct`, that a Card can send a player."
   ]
  },
  {
   "cell_type": "code",
   "execution_count": 10,
   "id": "d74c54e5-61da-4235-8e0f-72797b70c226",
   "metadata": {
    "tags": []
   },
   "outputs": [],
   "source": [
    "class Card(object):\n",
    "    '''\n",
    "    A Card intance represents a single card within the Deck\n",
    "    '''\n",
    "    def __init__(self,color,moves,direct):\n",
    "        self.color = color\n",
    "        self.moves = moves\n",
    "        self.direct = direct"
   ]
  },
  {
   "cell_type": "markdown",
   "id": "cc3ddf0c-1f69-43be-9d38-323594b9b652",
   "metadata": {},
   "source": [
    "The Deck is comprised of 44 cards.  Each of the colors has at least three cards for single moves and three for doulbe moves.  Yellow, green, and orange have an extra color card for a single move.  There are also 5 character cards."
   ]
  },
  {
   "cell_type": "code",
   "execution_count": 12,
   "id": "5a98ddab-6af2-497f-8652-2e062f44a40d",
   "metadata": {
    "tags": []
   },
   "outputs": [],
   "source": [
    "class Deck(object):\n",
    "    '''\n",
    "    A Deck instance contains Card instances (in a list).\n",
    "    For our version of the game, the Deck is fixed in terms of its contents, \n",
    "    but it can be re-ordered (shuffled)\n",
    "    '''\n",
    "    def __init__(self):\n",
    "        cards = []\n",
    "        colors = ['red','orange','yellow','green','blue','purple']\n",
    "        move_opts = [1,1,1,2,2,2]\n",
    "        # Cycling through the colors and moves in two loops creates most of the cards\n",
    "        for color in colors:\n",
    "            for move in move_opts:\n",
    "                cards.append(Card(color,move,'forward'))\n",
    "        # We can add the three extra color cards from the game\n",
    "        cards.append(Card('orange',1,'forward'))\n",
    "        cards.append(Card('yellow',1,'forward'))\n",
    "        cards.append(Card('green',1,'forward'))\n",
    "        # And also add the five character cards\n",
    "        jumps = [Card('A',1,'any'),Card('B',1,'any'),\n",
    "                 Card('C',1,'any'),Card('D',1,'any'),\n",
    "                 Card('E',1,'any')]\n",
    "        cards.extend(jumps)\n",
    "        self.cards = cards\n",
    "\n",
    "    def shuffle(self):\n",
    "        '''\n",
    "        This function will update a Deck in a a re-ordered (shuffled) state.\n",
    "        It will be helpful in creating games with \"random\" initial conditions.\n",
    "        param: Deck object\n",
    "        returns: None\n",
    "        '''\n",
    "        self.cards = sorted(self.cards, key=lambda x:random.random())\n",
    "    \n",
    "    def draw(self):\n",
    "        '''\n",
    "        This function will return from a deck the identity of the card \"on top\", \n",
    "        and it will update the deck itself to keep the same order save for moving the drawn card\n",
    "        to the \"bottom\" of the deck (and all other cards shift \"up\" one).\n",
    "        '''\n",
    "        drawn_card = self.cards[0]\n",
    "        remaining_deck = self.cards[1:]\n",
    "        self.cards = remaining_deck+[drawn_card]\n",
    "        return drawn_card\n",
    "\n",
    "    def draw_check(self):\n",
    "        '''\n",
    "        This is a test funciton that simply returns (reveals) the first card \"on top of\" the Deck.\n",
    "        '''\n",
    "        return self.cards[0]"
   ]
  },
  {
   "cell_type": "markdown",
   "id": "bf4cfda8-78e7-4393-965e-58343ba3c4b8",
   "metadata": {},
   "source": [
    "#### Building the Game\n",
    "Building the game begins with create players.  Players will have a number of attributes:\n",
    "- Players have a `number`, which inidicates if they are Player **1**, Player **2**, etc.\n",
    "- The Players will occupy a `space` on the board.\n",
    "- Players may have landed on a card that causes them to skip their next turn, and we can indicate this with a boolean indicator for `skip`.  \n",
    "- We can also track how many cards they have `drawn` in a given game too."
   ]
  },
  {
   "cell_type": "code",
   "execution_count": 14,
   "id": "3e5d364a-b8be-4207-b85a-f9c0d6a51518",
   "metadata": {
    "tags": []
   },
   "outputs": [],
   "source": [
    "class Player(object):\n",
    "    '''\n",
    "    A Player intance represents a player of the Game.\n",
    "    '''\n",
    "    def __init__(self,number):\n",
    "        self.number = number\n",
    "        self.space = 0\n",
    "        self.skip = False\n",
    "        self.drawn = 0"
   ]
  },
  {
   "cell_type": "markdown",
   "id": "66a5e172-c039-4548-b9e6-d0cb833f1232",
   "metadata": {},
   "source": [
    "The game itself is fairly straightforward in terms of rules.  We can initialize the game to contain the `Board`, a `Deck` (shuffled), and `Players` so it'll have attributes related to each of these objects (with an added attribute that simply notes the number of players \\[`no_players`\\].  We can also keep track of the number of cards `drawn` in total.\n",
    "\n",
    "Moves are taken in order, and during each move, a player draws a card and takes the appropriate action.  The only wrinkle that the game rules indicate are that if a player is set to land on a colored space that is occupied, they move to the next space of that color.  A player will be skipped and not draw a card if they had landed on a 'skip' space in their last turn.  The game is played, cycling through each player in order, until a player lands on the final space."
   ]
  },
  {
   "cell_type": "code",
   "execution_count": 16,
   "id": "7f563296-411e-4d6e-bba0-02bf4a6b2441",
   "metadata": {
    "tags": []
   },
   "outputs": [],
   "source": [
    "class Game(object):\n",
    "    '''\n",
    "    A Game instance contains a Board, a Deck (which we immediately shuffle), and a dictonary of Players,\n",
    "    keyed to their player number.\n",
    "    '''\n",
    "    def __init__(self,no_players):\n",
    "        self.board = Board()\n",
    "        self.deck = Deck()\n",
    "        self.deck.shuffle()\n",
    "        self.no_players = no_players\n",
    "        players = dict()\n",
    "        for i in range(no_players):\n",
    "            players[i+1] = Player(i+1)\n",
    "        self.players = players\n",
    "        self.drawn = 0\n",
    "    \n",
    "    def move(self,player):\n",
    "        '''\n",
    "        This function completes a 'move' for the player that is passed in.  It draws a card and determines\n",
    "        what to do; it updates the attributes for skip and space for the player, return a boolean as to whether\n",
    "        or not the player finished the game in their turn.  This method also updates the Game's Deck as cards\n",
    "        are drawn.\n",
    "        param: Player object\n",
    "        returns: boolean as to whether or not the player moved won the game\n",
    "        '''\n",
    "        card = self.deck.draw() # Gets a card from the deck\n",
    "        player.drawn += 1 # update the number of cards drawn for the player\n",
    "        self.drawn += 1 # update the number of cards drawn for the game\n",
    "        for i in range(card.moves): # Move 1 or 2 spaces, depending on type of card\n",
    "            space_opts = self.get_openSpaces() # Finds out the status of the spaces on the board\n",
    "            if card.color in ['red','orange','yellow','green','blue','purple']:\n",
    "                space_opts = space_opts[player.space+1:] # For color cards drawn, player is limited to moving forawrd\n",
    "                try:\n",
    "                    i = space_opts.index(card.color) # moves the player to the color space it can\n",
    "                    player.space += i+1\n",
    "                except:\n",
    "                    return True # if the player can only move to the final space, they win!\n",
    "            else:\n",
    "                player.space = space_opts.index(card.color) # For character cards, move the player to that space\n",
    "        player.skip = self.board.spaces[player.space].skip # Assign player a 'True' skip attribute if they landed on a skip\n",
    "        moveto_space = self.board.spaces[player.space].moveto # Find out if they landed on a space that advances them further\n",
    "        if moveto_space:\n",
    "            player.space = moveto_space # If the spot they landed on advances them further, execute that\n",
    "        return False # Indicates the player did not win and the game continues\n",
    "            \n",
    "    def get_nextPlayer(self,player):\n",
    "        '''\n",
    "        This function determines who the next player is based on a passed in player object\n",
    "        param: Player object whose turn it is\n",
    "        returns: The next Player (object) whose turn it is\n",
    "        '''\n",
    "        i = player.number\n",
    "        if i == self.no_players:\n",
    "            return self.players[1]\n",
    "        else:\n",
    "            return self.players[i+1]\n",
    "    \n",
    "    def get_openSpaces(self):\n",
    "        '''\n",
    "        This method gets the state of the board and updates it to determine which colors are open\n",
    "        param: None\n",
    "        returns: A list of the colors on the board, accounting for which spaces are occupied and thus not open.\n",
    "        '''\n",
    "        all_spaces = self.board.get_colorlist()\n",
    "        for player in self.players.values():\n",
    "            all_spaces[player.space] = \"occupied\"\n",
    "        return all_spaces\n",
    "            \n",
    "    def play(self):\n",
    "        '''\n",
    "        This method moves through each player by completing moves for each of them, ending only when \n",
    "        one player wins on their turn.  It then returns the number for the player.\n",
    "        param: None\n",
    "        returns: The winning player's number.\n",
    "        '''\n",
    "        winner = False\n",
    "        player = self.players[game.no_players]\n",
    "        while not winner:\n",
    "            player = game.get_nextPlayer(player)\n",
    "            if player.skip:\n",
    "                player.skip = False\n",
    "                player = game.get_nextPlayer(player)\n",
    "                continue\n",
    "            winner = self.move(player)\n",
    "        return player.number"
   ]
  },
  {
   "cell_type": "markdown",
   "id": "746bfdb6-480a-4c9d-a406-814ce91adbf7",
   "metadata": {},
   "source": [
    "#### Simulations\n",
    "Now that we have the game set up, we can start to run simulations.  I'll start with two-player games, and I'll run through 10,000,000 games, keeping track of the number of time each player (Player 1 or Player 2) wins."
   ]
  },
  {
   "cell_type": "code",
   "execution_count": 18,
   "id": "b600d16a-295d-44d5-949a-3c0607361f41",
   "metadata": {},
   "outputs": [
    {
     "name": "stdout",
     "output_type": "stream",
     "text": [
      "Time to run 1000000 game simulations with 2 players: 2.5 minutes\n",
      "Player Number wins: {1: 523508, 2: 476492}\n",
      "Average cards drawn in game: 19.897468\n",
      "Average cards drawn by winner: 10.210488\n"
     ]
    }
   ],
   "source": [
    "no_players = 2\n",
    "vals = [0]*no_players\n",
    "results_2 = dict(zip(range(1,no_players+1),vals))\n",
    "total_drawn = []\n",
    "winner_drawn = []\n",
    "no_games_2 = 1_000_000\n",
    "start_time = time.time()\n",
    "for i in range(no_games_2):\n",
    "    # if i % (no_games_2//min(no_games_2,100)) == 0:\n",
    "    #     clear_output()\n",
    "    #     print(f'Game {i} of {no_games_2}')\n",
    "    game = Game(no_players)\n",
    "    winner = game.play()\n",
    "    results_2[winner] = results_2[winner] + 1\n",
    "    total_drawn.append(game.drawn)\n",
    "    winner_drawn.append(game.players[winner].drawn)\n",
    "ave_game_drawn = sum(total_drawn)/len(total_drawn)\n",
    "ave_winner_drawn = sum(winner_drawn)/len(winner_drawn)\n",
    "end_time = time.time()\n",
    "total_time_2 = round((end_time-start_time)/60,1)\n",
    "clear_output()\n",
    "print(f'Time to run {no_games_2} game simulations with {no_players} players: {total_time_2} minutes')\n",
    "print('Player Number wins:',results_2)\n",
    "print('Average cards drawn in game:',ave_game_drawn)\n",
    "print('Average cards drawn by winner:',ave_winner_drawn)"
   ]
  },
  {
   "cell_type": "markdown",
   "id": "d74888c4-bc46-4e86-9ba7-5664affd0aa5",
   "metadata": {},
   "source": [
    "Player 1 wins about 52.3% of the time in a two-player game.  Since we ran a massive number of simulations, this is going to be very close to the expected winning percentage for Player 1 for this particular game.  But, for the sake of exercise, we can run this through it's paces and set up a true test of a null hypothesis that there is no advantage to being Player 1.  To whit:\n",
    "\n",
    "- The null hypothesis is that the expected win percentage for Player 1 is less than or equal to 50% (0.5).  \n",
    "- The alternative hypothesis is that that is some advantage, so that Player 1 would be expected to win more than half the time.  \n",
    "- We are not considering if there is a disadvantage to going first, so this will only look at half of the distribution and thus we'll consider a one-sided p-value."
   ]
  },
  {
   "cell_type": "code",
   "execution_count": 20,
   "id": "ada6a659-9502-4fa4-b628-fa9a298fea82",
   "metadata": {
    "tags": []
   },
   "outputs": [
    {
     "name": "stdout",
     "output_type": "stream",
     "text": [
      "Z-statistic: 47.068050843922705\n",
      "P-value: 0.0\n"
     ]
    }
   ],
   "source": [
    "x_2 = results_2[1]\n",
    "p_null_2 = 0.5\n",
    "z_stat_2, p_value_2 = sm.proportions_ztest(x_2, no_games_2, p_null_2, alternative='larger')\n",
    "print(\"Z-statistic:\", z_stat_2)\n",
    "print(\"P-value:\", p_value_2)"
   ]
  },
  {
   "cell_type": "markdown",
   "id": "3e417eb0-37e5-4f57-8e19-1c913b8e07c7",
   "metadata": {},
   "source": [
    "We can see that the proportion value from our simulation (52.3%) lies nearly 50 standard deviations away from the null value, and thus the p-value (one-sided) is effectively zero.  In other words, there is strong evidence to reject the null hypothesis that there is no advantage to going first.  The data in fact suggests that the player that goes first in a two-player game is likely to win 52.3% of the time."
   ]
  },
  {
   "cell_type": "code",
   "execution_count": null,
   "id": "a64f9c17-3291-4324-a431-73cfd5e858b4",
   "metadata": {},
   "outputs": [],
   "source": []
  }
 ],
 "metadata": {
  "kernelspec": {
   "display_name": "Python 3 (ipykernel)",
   "language": "python",
   "name": "python3"
  },
  "language_info": {
   "codemirror_mode": {
    "name": "ipython",
    "version": 3
   },
   "file_extension": ".py",
   "mimetype": "text/x-python",
   "name": "python",
   "nbconvert_exporter": "python",
   "pygments_lexer": "ipython3",
   "version": "3.11.4"
  }
 },
 "nbformat": 4,
 "nbformat_minor": 5
}
